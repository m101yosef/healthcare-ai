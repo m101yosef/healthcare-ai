{
 "cells": [
  {
   "cell_type": "markdown",
   "id": "f1fc5040",
   "metadata": {},
   "source": [
    "# Logistic Regression Model for Heart Disease Prediction\n",
    "This notebook builds and evaluates a Logistic Regression classifier on the heart disease dataset. It follows the same structure and style as the Random Forest and XGBoost notebooks, with clear code, visualizations, and markdown explanations."
   ]
  },
  {
   "cell_type": "code",
   "execution_count": 1,
   "id": "1d65e5a5",
   "metadata": {},
   "outputs": [],
   "source": [
    "# Import libraries\n",
    "import os\n",
    "import pandas as pd\n",
    "import numpy as np\n",
    "import matplotlib.pyplot as plt\n",
    "import seaborn as sns\n",
    "from sklearn.model_selection import train_test_split\n",
    "from sklearn.preprocessing import StandardScaler, OneHotEncoder\n",
    "from sklearn.compose import ColumnTransformer\n",
    "from sklearn.pipeline import Pipeline\n",
    "\n",
    "# Set style\n",
    "plt.style.use('seaborn-v0_8-darkgrid')\n",
    "plt.rcParams['axes.prop_cycle'] = plt.cycler(color=['teal', 'crimson'])\n",
    "plt.rcParams['font.family'] = 'DejaVu Sans'"
   ]
  },
  {
   "cell_type": "code",
   "execution_count": 2,
   "id": "5932b913",
   "metadata": {},
   "outputs": [],
   "source": [
    "# Load data\n",
    "data = pd.read_csv('../data/heart_featured.csv')\n",
    "cat_cols = ['Sex', 'FastingBS', 'ExerciseAngina', 'ChestPainType', 'RestingECG', 'ST_Slope', 'LawChol', 'LawOldpeak']\n",
    "num_cols = ['Age', 'RestingBP', 'Cholesterol', 'MaxHR', 'Oldpeak']\n",
    "target_col = 'HeartDisease'"
   ]
  },
  {
   "cell_type": "markdown",
   "id": "b12cf5a7",
   "metadata": {},
   "source": [
    "## Data Splitting and Preprocessing\n",
    "Logistic Regression requires all features to be numeric and scaled. We'll use one-hot encoding for categoricals and standard scaling for numericals."
   ]
  },
  {
   "cell_type": "code",
   "execution_count": 3,
   "id": "6fe47047",
   "metadata": {},
   "outputs": [],
   "source": [
    "# Split data\n",
    "y = data[target_col]\n",
    "X = data.drop(columns=[target_col])\n",
    "X_temp, X_test, y_temp, y_test = train_test_split(X, y, test_size=0.15, random_state=42, stratify=y)\n",
    "X_train, X_val, y_train, y_val = train_test_split(X_temp, y_temp, test_size=0.176, random_state=42, stratify=y_temp)\n",
    "\n",
    "# Preprocessing pipeline\n",
    "preprocessor = ColumnTransformer([\n",
    "    ('num', StandardScaler(), num_cols),\n",
    "    ('cat', OneHotEncoder(handle_unknown='ignore', sparse_output=False), cat_cols)\n",
    "])\n",
    "X_train_prep = preprocessor.fit_transform(X_train)\n",
    "X_val_prep = preprocessor.transform(X_val)\n",
    "X_test_prep = preprocessor.transform(X_test)"
   ]
  },
  {
   "cell_type": "markdown",
   "id": "c6eac05e",
   "metadata": {},
   "source": [
    "## Logistic Regression Model Training and Hyperparameter Tuning\n",
    "We'll use grid search with stratified K-fold cross-validation to tune the Logistic Regression classifier."
   ]
  },
  {
   "cell_type": "code",
   "execution_count": 4,
   "id": "a56dd800",
   "metadata": {},
   "outputs": [
    {
     "name": "stdout",
     "output_type": "stream",
     "text": [
      "Fitting 5 folds for each of 8 candidates, totalling 40 fits\n",
      "Best parameters: {'C': 0.1, 'penalty': 'l2', 'solver': 'lbfgs'}\n",
      "Best CV accuracy: 0.8566\n"
     ]
    }
   ],
   "source": [
    "from sklearn.linear_model import LogisticRegression\n",
    "from sklearn.model_selection import GridSearchCV, StratifiedKFold\n",
    "from sklearn.metrics import classification_report, confusion_matrix, accuracy_score\n",
    "\n",
    "param_grid = {\n",
    "    'C': [0.01, 0.1, 1, 10],\n",
    "    'penalty': ['l2'],\n",
    "    'solver': ['lbfgs', 'liblinear']\n",
    "}\n",
    "logreg = LogisticRegression(max_iter=1000, random_state=42)\n",
    "skf = StratifiedKFold(n_splits=5, shuffle=True, random_state=42)\n",
    "gs = GridSearchCV(logreg, param_grid, cv=skf, scoring='accuracy', n_jobs=-1, verbose=1)\n",
    "gs.fit(X_train_prep, y_train)\n",
    "\n",
    "print(f'Best parameters: {gs.best_params_}')\n",
    "print(f'Best CV accuracy: {gs.best_score_:.4f}')"
   ]
  },
  {
   "cell_type": "code",
   "execution_count": 5,
   "id": "a1a979b2",
   "metadata": {},
   "outputs": [
    {
     "name": "stdout",
     "output_type": "stream",
     "text": [
      "Validation Accuracy: 0.8623188405797102\n",
      "Classification Report:               precision    recall  f1-score   support\n",
      "\n",
      "           0       0.85      0.84      0.85        62\n",
      "           1       0.87      0.88      0.88        76\n",
      "\n",
      "    accuracy                           0.86       138\n",
      "   macro avg       0.86      0.86      0.86       138\n",
      "weighted avg       0.86      0.86      0.86       138\n",
      "\n",
      "Confusion Matrix: [[52 10]\n",
      " [ 9 67]]\n"
     ]
    },
    {
     "data": {
      "image/png": "[encoded data removed]",
      "text/plain": [
       "<Figure size 500x400 with 1 Axes>"
      ]
     },
     "metadata": {},
     "output_type": "display_data"
    }
   ],
   "source": [
    "# Validation set evaluation\n",
    "val_preds = gs.predict(X_val_prep)\n",
    "print('Validation Accuracy:', accuracy_score(y_val, val_preds))\n",
    "print('Classification Report:', classification_report(y_val, val_preds))\n",
    "print('Confusion Matrix:', confusion_matrix(y_val, val_preds))\n",
    "\n",
    "# Visualize confusion matrix\n",
    "cm = confusion_matrix(y_val, val_preds)\n",
    "plt.figure(figsize=(5, 4))\n",
    "sns.heatmap(cm, annot=True, fmt='d', cmap='crest', cbar=False)\n",
    "plt.xlabel('Predicted')\n",
    "plt.ylabel('Actual')\n",
    "plt.title('Validation Confusion Matrix (Logistic Regression)')\n",
    "plt.show()"
   ]
  },
  {
   "cell_type": "code",
   "execution_count": 6,
   "id": "d18abc10",
   "metadata": {},
   "outputs": [
    {
     "name": "stdout",
     "output_type": "stream",
     "text": [
      "Test Accuracy: 0.8840579710144928\n",
      "Classification Report:               precision    recall  f1-score   support\n",
      "\n",
      "           0       0.88      0.85      0.87        62\n",
      "           1       0.88      0.91      0.90        76\n",
      "\n",
      "    accuracy                           0.88       138\n",
      "   macro avg       0.88      0.88      0.88       138\n",
      "weighted avg       0.88      0.88      0.88       138\n",
      "\n",
      "Confusion Matrix: [[53  9]\n",
      " [ 7 69]]\n"
     ]
    },
    {
     "data": {
      "image/png": "[encoded data removed]",
      "text/plain": [
       "<Figure size 500x400 with 1 Axes>"
      ]
     },
     "metadata": {},
     "output_type": "display_data"
    }
   ],
   "source": [
    "# Test set evaluation for Logistic Regression\n",
    "test_preds = gs.predict(X_test_prep)\n",
    "print('Test Accuracy:', accuracy_score(y_test, test_preds))\n",
    "print('Classification Report:', classification_report(y_test, test_preds))\n",
    "print('Confusion Matrix:', confusion_matrix(y_test, test_preds))\n",
    "\n",
    "# Visualize confusion matrix\n",
    "cm = confusion_matrix(y_test, test_preds)\n",
    "plt.figure(figsize=(5, 4))\n",
    "sns.heatmap(cm, annot=True, fmt='d', cmap='crest', cbar=False)\n",
    "plt.xlabel('Predicted')\n",
    "plt.ylabel('Actual')\n",
    "plt.title('Test Confusion Matrix (Logistic Regression)')\n",
    "plt.show()"
   ]
  },
  {
   "cell_type": "code",
   "execution_count": 7,
   "id": "f5a86cd1",
   "metadata": {},
   "outputs": [],
   "source": [
    "# Save Logistic Regression model performance and feature importances to CSV\n",
    "import pandas as pd\n",
    "from sklearn.metrics import precision_score, recall_score, f1_score\n",
    "perf_rows = []\n",
    "for split, X_, y_, preds in [\n",
    "    ('validation', X_val_prep, y_val, val_preds),\n",
    "    ('test', X_test_prep, y_test, test_preds),\n",
    "    ]:\n",
    "    perf_rows.append({\n",
    "        'model': 'LogisticRegression',\n",
    "        'split': split,\n",
    "        'accuracy': accuracy_score(y_, preds),\n",
    "        'precision': precision_score(y_, preds),\n",
    "        'recall': recall_score(y_, preds),\n",
    "        'f1': f1_score(y_, preds)\n",
    "    })\n",
    "perf_df = pd.DataFrame(perf_rows)\n",
    "perf_df.to_csv('../data/model_performance.csv', mode='a', header=False, index=False)\n",
    "\n",
    "# Save top 25 feature importances (absolute value of coefficients)\n",
    "importances = np.abs(gs.best_estimator_.coef_[0])\n",
    "feature_names = list(preprocessor.named_transformers_['num'].get_feature_names_out(num_cols)) + list(preprocessor.named_transformers_['cat'].get_feature_names_out(cat_cols))\n",
    "dx = np.argsort(importances)[::-1]\n",
    "fi_df = pd.DataFrame({\n",
    "    'model': 'LogisticRegression',\n",
    "    'feature': [feature_names[i] for i in dx[:25]],\n",
    "    'importance': importances[dx[:25]]\n",
    "})\n",
    "fi_df.to_csv('../data/feature_importance.csv', mode='a', header=False, index=False)"
   ]
  }
 ],
 "metadata": {
  "kernelspec": {
   "display_name": "Python 3",
   "language": "python",
   "name": "python3"
  },
  "language_info": {
   "codemirror_mode": {
    "name": "ipython",
    "version": 3
   },
   "file_extension": ".py",
   "mimetype": "text/x-python",
   "name": "python",
   "nbconvert_exporter": "python",
   "pygments_lexer": "ipython3",
   "version": "3.13.1"
  }
 },
 "nbformat": 4,
 "nbformat_minor": 5
}
