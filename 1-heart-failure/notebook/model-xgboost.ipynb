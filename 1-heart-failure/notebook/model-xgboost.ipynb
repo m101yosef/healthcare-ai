{
 "cells": [
  {
   "cell_type": "markdown",
   "id": "28433bac",
   "metadata": {},
   "source": [
    "# XGBoost Model for Heart Disease Prediction\n",
    "This notebook builds and evaluates an XGBoost classifier on the heart disease dataset. It follows the same structure as the Random Forest notebook, with clear code, visualizations, and markdown explanations."
   ]
  },
  {
   "cell_type": "code",
   "execution_count": 1,
   "id": "cf49e389",
   "metadata": {},
   "outputs": [],
   "source": [
    "# Import libraries\n",
    "import os\n",
    "import pandas as pd\n",
    "import numpy as np\n",
    "import matplotlib.pyplot as plt\n",
    "import seaborn as sns\n",
    "from sklearn.model_selection import train_test_split\n",
    "from sklearn.preprocessing import StandardScaler, OneHotEncoder\n",
    "from sklearn.compose import ColumnTransformer\n",
    "from sklearn.pipeline import Pipeline\n",
    "\n",
    "# Set style\n",
    "plt.style.use('seaborn-v0_8-darkgrid')\n",
    "plt.rcParams['axes.prop_cycle'] = plt.cycler(color=['teal', 'crimson'])\n",
    "plt.rcParams['font.family'] = 'DejaVu Sans'"
   ]
  },
  {
   "cell_type": "code",
   "execution_count": 2,
   "id": "49a4df45",
   "metadata": {},
   "outputs": [],
   "source": [
    "# Load data\n",
    "data = pd.read_csv('../data/heart_featured.csv')\n",
    "cat_cols = ['Sex', 'FastingBS', 'ExerciseAngina', 'ChestPainType', 'RestingECG', 'ST_Slope', 'LawChol', 'LawOldpeak']\n",
    "num_cols = ['Age', 'RestingBP', 'Cholesterol', 'MaxHR', 'Oldpeak']\n",
    "target_col = 'HeartDisease'"
   ]
  },
  {
   "cell_type": "markdown",
   "id": "f7deba4a",
   "metadata": {},
   "source": [
    "## Data Splitting and Preprocessing\n",
    "XGBoost requires all features to be numeric. We'll use one-hot encoding for categoricals and standard scaling for numericals."
   ]
  },
  {
   "cell_type": "code",
   "execution_count": 3,
   "id": "8b125048",
   "metadata": {},
   "outputs": [],
   "source": [
    "# Split data\n",
    "y = data[target_col]\n",
    "X = data.drop(columns=[target_col])\n",
    "X_temp, X_test, y_temp, y_test = train_test_split(X, y, test_size=0.15, random_state=42, stratify=y)\n",
    "X_train, X_val, y_train, y_val = train_test_split(X_temp, y_temp, test_size=0.176, random_state=42, stratify=y_temp)\n",
    "\n",
    "# Preprocessing pipeline\n",
    "preprocessor = ColumnTransformer([\n",
    "    ('num', StandardScaler(), num_cols),\n",
    "    ('cat', OneHotEncoder(handle_unknown='ignore', sparse_output=False), cat_cols)\n",
    "])\n",
    "X_train_prep = preprocessor.fit_transform(X_train)\n",
    "X_val_prep = preprocessor.transform(X_val)\n",
    "X_test_prep = preprocessor.transform(X_test)"
   ]
  },
  {
   "cell_type": "markdown",
   "id": "84693c57",
   "metadata": {},
   "source": [
    "## XGBoost Model Training and Hyperparameter Tuning\n",
    "We'll use grid search with stratified K-fold cross-validation to tune the XGBoost classifier."
   ]
  },
  {
   "cell_type": "code",
   "execution_count": 7,
   "id": "a28a2d79",
   "metadata": {},
   "outputs": [
    {
     "name": "stdout",
     "output_type": "stream",
     "text": [
      "Fitting 5 folds for each of 72 candidates, totalling 360 fits\n",
      "Best parameters: {'colsample_bytree': 0.8, 'learning_rate': 0.1, 'max_depth': 3, 'n_estimators': 200, 'subsample': 0.8}\n",
      "Best CV accuracy: 0.8785\n",
      "Best parameters: {'colsample_bytree': 0.8, 'learning_rate': 0.1, 'max_depth': 3, 'n_estimators': 200, 'subsample': 0.8}\n",
      "Best CV accuracy: 0.8785\n"
     ]
    }
   ],
   "source": [
    "from xgboost import XGBClassifier\n",
    "from sklearn.model_selection import GridSearchCV, StratifiedKFold\n",
    "from sklearn.metrics import classification_report, confusion_matrix, accuracy_score\n",
    "\n",
    "param_grid = {\n",
    "    'n_estimators': [100, 200],\n",
    "    'max_depth': [3, 5, 7],\n",
    "    'learning_rate': [0.01, 0.1, 0.2],\n",
    "    'subsample': [0.8, 1.0],\n",
    "    'colsample_bytree': [0.8, 1.0]\n",
    "}\n",
    "xgb = XGBClassifier(random_state=42, eval_metric='logloss')\n",
    "skf = StratifiedKFold(n_splits=5, shuffle=True, random_state=42)\n",
    "gs = GridSearchCV(xgb, param_grid, cv=skf, scoring='accuracy', n_jobs=-1, verbose=1)\n",
    "gs.fit(X_train_prep, y_train)\n",
    "\n",
    "print(f'Best parameters: {gs.best_params_}')\n",
    "print(f'Best CV accuracy: {gs.best_score_:.4f}')"
   ]
  },
  {
   "cell_type": "code",
   "execution_count": 8,
   "id": "7981f367",
   "metadata": {},
   "outputs": [
    {
     "name": "stdout",
     "output_type": "stream",
     "text": [
      "Validation Accuracy: 0.8333333333333334\n",
      "Classification Report:               precision    recall  f1-score   support\n",
      "\n",
      "           0       0.83      0.79      0.81        62\n",
      "           1       0.84      0.87      0.85        76\n",
      "\n",
      "    accuracy                           0.83       138\n",
      "   macro avg       0.83      0.83      0.83       138\n",
      "weighted avg       0.83      0.83      0.83       138\n",
      "\n",
      "Confusion Matrix: [[49 13]\n",
      " [10 66]]\n"
     ]
    },
    {
     "data": {
      "image/png": "[encoded data removed]",
      "text/plain": [
       "<Figure size 500x400 with 1 Axes>"
      ]
     },
     "metadata": {},
     "output_type": "display_data"
    }
   ],
   "source": [
    "# Validation set evaluation\n",
    "val_preds = gs.predict(X_val_prep)\n",
    "print('Validation Accuracy:', accuracy_score(y_val, val_preds))\n",
    "print('Classification Report:', classification_report(y_val, val_preds))\n",
    "print('Confusion Matrix:', confusion_matrix(y_val, val_preds))\n",
    "\n",
    "# Visualize confusion matrix\n",
    "cm = confusion_matrix(y_val, val_preds)\n",
    "plt.figure(figsize=(5, 4))\n",
    "sns.heatmap(cm, annot=True, fmt='d', cmap='crest', cbar=False)\n",
    "plt.xlabel('Predicted')\n",
    "plt.ylabel('Actual')\n",
    "plt.title('Validation Confusion Matrix (XGBoost)')\n",
    "plt.show()"
   ]
  },
  {
   "cell_type": "code",
   "execution_count": 9,
   "id": "0e8bea44",
   "metadata": {},
   "outputs": [
    {
     "name": "stdout",
     "output_type": "stream",
     "text": [
      "Test Accuracy: 0.8913043478260869\n",
      "Classification Report:               precision    recall  f1-score   support\n",
      "\n",
      "           0       0.86      0.90      0.88        62\n",
      "           1       0.92      0.88      0.90        76\n",
      "\n",
      "    accuracy                           0.89       138\n",
      "   macro avg       0.89      0.89      0.89       138\n",
      "weighted avg       0.89      0.89      0.89       138\n",
      "\n",
      "Confusion Matrix: [[56  6]\n",
      " [ 9 67]]\n"
     ]
    },
    {
     "data": {
      "image/png": "[encoded data removed]",
      "text/plain": [
       "<Figure size 500x400 with 1 Axes>"
      ]
     },
     "metadata": {},
     "output_type": "display_data"
    }
   ],
   "source": [
    "# Test set evaluation for XGBoost\n",
    "test_preds = gs.predict(X_test_prep)\n",
    "print('Test Accuracy:', accuracy_score(y_test, test_preds))\n",
    "print('Classification Report:', classification_report(y_test, test_preds))\n",
    "print('Confusion Matrix:', confusion_matrix(y_test, test_preds))\n",
    "\n",
    "# Visualize confusion matrix\n",
    "cm = confusion_matrix(y_test, test_preds)\n",
    "plt.figure(figsize=(5, 4))\n",
    "sns.heatmap(cm, annot=True, fmt='d', cmap='crest', cbar=False)\n",
    "plt.xlabel('Predicted')\n",
    "plt.ylabel('Actual')\n",
    "plt.title('Test Confusion Matrix (XGBoost)')\n",
    "plt.show()"
   ]
  },
  {
   "cell_type": "code",
   "execution_count": 10,
   "id": "8821f9e7",
   "metadata": {},
   "outputs": [],
   "source": [
    "# Save XGBoost model performance and feature importances to CSV\n",
    "import pandas as pd\n",
    "from sklearn.metrics import precision_score, recall_score, f1_score\n",
    "perf_rows = []\n",
    "for split, X_, y_, preds in [\n",
    "    ('validation', X_val_prep, y_val, val_preds),\n",
    "    ('test', X_test_prep, y_test, test_preds),\n",
    "    ]:\n",
    "    perf_rows.append({\n",
    "        'model': 'XGBoost',\n",
    "        'split': split,\n",
    "        'accuracy': accuracy_score(y_, preds),\n",
    "        'precision': precision_score(y_, preds),\n",
    "        'recall': recall_score(y_, preds),\n",
    "        'f1': f1_score(y_, preds)\n",
    "    })\n",
    "perf_df = pd.DataFrame(perf_rows)\n",
    "perf_df.to_csv('../data/model_performance.csv', mode='a', header=False, index=False)\n",
    "\n",
    "# Save top 25 feature importances\n",
    "importances = gs.best_estimator_.feature_importances_\n",
    "feature_names = list(preprocessor.named_transformers_['num'].get_feature_names_out(num_cols)) + list(preprocessor.named_transformers_['cat'].get_feature_names_out(cat_cols))\n",
    "dx = np.argsort(importances)[::-1]\n",
    "fi_df = pd.DataFrame({\n",
    "    'model': 'XGBoost',\n",
    "    'feature': [feature_names[i] for i in dx[:25]],\n",
    "    'importance': importances[dx[:25]]\n",
    "})\n",
    "fi_df.to_csv('../data/feature_importance.csv', mode='a', header=False, index=False)"
   ]
  }
 ],
 "metadata": {
  "kernelspec": {
   "display_name": "Python 3",
   "language": "python",
   "name": "python3"
  },
  "language_info": {
   "codemirror_mode": {
    "name": "ipython",
    "version": 3
   },
   "file_extension": ".py",
   "mimetype": "text/x-python",
   "name": "python",
   "nbconvert_exporter": "python",
   "pygments_lexer": "ipython3",
   "version": "3.13.1"
  }
 },
 "nbformat": 4,
 "nbformat_minor": 5
}
